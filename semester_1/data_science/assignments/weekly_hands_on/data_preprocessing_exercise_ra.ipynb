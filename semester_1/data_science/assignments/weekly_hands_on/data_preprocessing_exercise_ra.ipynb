{
 "cells": [
  {
   "cell_type": "markdown",
   "id": "bb709aca",
   "metadata": {},
   "source": [
    "1. Create a categorical age_group variable using the following categories:\n",
    "    a. 18-35: Young Adult\n",
    "    b. 36-55: Middle Aged\n",
    "    c. +56: Senior\n",
    "2. Convert these heights to centimeters (cm) using the following conversion rate:\n",
    "    a. 1 inch = 2,54 centimeters\n",
    "    3. Convert these weights to kilograms (kg) using the following conversion rate:\n",
    "    a. kg = Ibs * 0.45359237\n",
    "4. Create a new variable, bmi by filling in the values of the final column's cells using the formula (rounded to one decimal place):\n",
    "    a. BMI = Weight (kg) / (Height (m))*\n"
   ]
  },
  {
   "cell_type": "markdown",
   "id": "5d36adb6",
   "metadata": {},
   "source": [
    "* Import packages"
   ]
  },
  {
   "cell_type": "code",
   "execution_count": 5,
   "id": "a8851af5",
   "metadata": {},
   "outputs": [],
   "source": [
    "import numpy as np\n",
    "import pandas as pd\n",
    "import matplotlib.pyplot as plt"
   ]
  },
  {
   "cell_type": "markdown",
   "id": "17ce1936",
   "metadata": {},
   "source": [
    "* Complete first task\n",
    "\n",
    "1. Create a categorical age_group variable using the following categories:\n",
    "    a. 18-35: Young Adult\n",
    "    b. 36-55: Middle Aged\n",
    "    c. +56: Senior"
   ]
  },
  {
   "cell_type": "code",
   "execution_count": 9,
   "id": "55962f8d",
   "metadata": {},
   "outputs": [
    {
     "name": "stderr",
     "output_type": "stream",
     "text": [
      "848.52s - pydevd: Sending message related to process being replaced timed-out after 5 seconds\n"
     ]
    },
    {
     "name": "stdout",
     "output_type": "stream",
     "text": [
      "data_preprocessing_exercise_ra.ipynb\n"
     ]
    },
    {
     "data": {
      "application/vnd.microsoft.datawrangler.viewer.v0+json": {
       "columns": [
        {
         "name": "index",
         "rawType": "int64",
         "type": "integer"
        },
        {
         "name": "participant",
         "rawType": "int64",
         "type": "integer"
        },
        {
         "name": "age",
         "rawType": "int64",
         "type": "integer"
        },
        {
         "name": "height",
         "rawType": "object",
         "type": "string"
        },
        {
         "name": "weight",
         "rawType": "int64",
         "type": "integer"
        }
       ],
       "ref": "3fe1dce8-c668-4981-913e-6d754593949a",
       "rows": [
        [
         "0",
         "1",
         "32",
         "5'11",
         "175"
        ],
        [
         "1",
         "2",
         "55",
         "5'5",
         "132"
        ],
        [
         "2",
         "3",
         "62",
         "5'9",
         "195"
        ],
        [
         "3",
         "4",
         "18",
         "5'3",
         "120"
        ],
        [
         "4",
         "5",
         "23",
         "6'1",
         "180"
        ]
       ],
       "shape": {
        "columns": 4,
        "rows": 5
       }
      },
      "text/html": [
       "<div>\n",
       "<style scoped>\n",
       "    .dataframe tbody tr th:only-of-type {\n",
       "        vertical-align: middle;\n",
       "    }\n",
       "\n",
       "    .dataframe tbody tr th {\n",
       "        vertical-align: top;\n",
       "    }\n",
       "\n",
       "    .dataframe thead th {\n",
       "        text-align: right;\n",
       "    }\n",
       "</style>\n",
       "<table border=\"1\" class=\"dataframe\">\n",
       "  <thead>\n",
       "    <tr style=\"text-align: right;\">\n",
       "      <th></th>\n",
       "      <th>participant</th>\n",
       "      <th>age</th>\n",
       "      <th>height</th>\n",
       "      <th>weight</th>\n",
       "    </tr>\n",
       "  </thead>\n",
       "  <tbody>\n",
       "    <tr>\n",
       "      <th>0</th>\n",
       "      <td>1</td>\n",
       "      <td>32</td>\n",
       "      <td>5'11</td>\n",
       "      <td>175</td>\n",
       "    </tr>\n",
       "    <tr>\n",
       "      <th>1</th>\n",
       "      <td>2</td>\n",
       "      <td>55</td>\n",
       "      <td>5'5</td>\n",
       "      <td>132</td>\n",
       "    </tr>\n",
       "    <tr>\n",
       "      <th>2</th>\n",
       "      <td>3</td>\n",
       "      <td>62</td>\n",
       "      <td>5'9</td>\n",
       "      <td>195</td>\n",
       "    </tr>\n",
       "    <tr>\n",
       "      <th>3</th>\n",
       "      <td>4</td>\n",
       "      <td>18</td>\n",
       "      <td>5'3</td>\n",
       "      <td>120</td>\n",
       "    </tr>\n",
       "    <tr>\n",
       "      <th>4</th>\n",
       "      <td>5</td>\n",
       "      <td>23</td>\n",
       "      <td>6'1</td>\n",
       "      <td>180</td>\n",
       "    </tr>\n",
       "  </tbody>\n",
       "</table>\n",
       "</div>"
      ],
      "text/plain": [
       "   participant  age height  weight\n",
       "0            1   32   5'11     175\n",
       "1            2   55    5'5     132\n",
       "2            3   62    5'9     195\n",
       "3            4   18    5'3     120\n",
       "4            5   23    6'1     180"
      ]
     },
     "execution_count": 9,
     "metadata": {},
     "output_type": "execute_result"
    }
   ],
   "source": [
    "%ls\n",
    "participantDataFrame = pd.read_csv(\"../../handson_dataset.csv\")\n",
    "participantDataFrame.head()"
   ]
  },
  {
   "cell_type": "markdown",
   "id": "1edc6ebe",
   "metadata": {},
   "source": [
    "1. Create a categorical age_group variable using the following categories:\n",
    "    a. 18-35: Young Adult\n",
    "    b. 36-55: Middle Aged\n",
    "    c. +56: Senior"
   ]
  },
  {
   "cell_type": "code",
   "execution_count": 10,
   "id": "e5047387",
   "metadata": {},
   "outputs": [
    {
     "name": "stdout",
     "output_type": "stream",
     "text": [
      "   participant  age height  weight     ageGroup\n",
      "0            1   32   5'11     175  Young Adult\n",
      "1            2   55    5'5     132  Middle Aged\n",
      "2            3   62    5'9     195       Senior\n",
      "3            4   18    5'3     120  Young Adult\n",
      "4            5   23    6'1     180  Young Adult\n"
     ]
    }
   ],
   "source": [
    "participantDfCategorized = participantDataFrame.copy()\n",
    "\n",
    "ageBinList = [17, 35, 55, np.inf]  # 17 as lower bound to include 18+\n",
    "ageLabelList = [\"Young Adult\", \"Middle Aged\", \"Senior\"]\n",
    "\n",
    "participantDfCategorized[\"ageGroup\"] = pd.cut(\n",
    "    participantDfCategorized[\"age\"],\n",
    "    bins=ageBinList,\n",
    "    labels=ageLabelList,\n",
    "    right=True\n",
    ")\n",
    "\n",
    "print(participantDfCategorized.head())"
   ]
  },
  {
   "cell_type": "markdown",
   "id": "d5c070cb",
   "metadata": {},
   "source": [
    "2. Convert these heights to centimeters (cm) using the following conversion rate:\n",
    "    a. 1 inch = 2,54 centimeters"
   ]
  },
  {
   "cell_type": "code",
   "execution_count": 12,
   "id": "d57d1041",
   "metadata": {},
   "outputs": [
    {
     "name": "stdout",
     "output_type": "stream",
     "text": [
      "   participant  age height  weight     ageGroup  heightCm\n",
      "0            1   32   5'11     175  Young Adult    180.34\n",
      "1            2   55    5'5     132  Middle Aged    165.10\n",
      "2            3   62    5'9     195       Senior    175.26\n",
      "3            4   18    5'3     120  Young Adult    160.02\n",
      "4            5   23    6'1     180  Young Adult    185.42\n"
     ]
    }
   ],
   "source": [
    "participantDfCm = participantDfCategorized.copy()\n",
    "inchToCm = 2.54\n",
    "\n",
    "def convertHeightToCm(heightStr):\n",
    "    try:\n",
    "        heightStr = heightStr.strip()\n",
    "        feet, inches = heightStr.split(\"'\")\n",
    "        feet = int(feet)\n",
    "        inches = int(inches.replace('\"', '').strip()) if inches else 0\n",
    "        totalInches = feet * 12 + inches\n",
    "        totalCm = totalInches * 2.54\n",
    "        return totalCm\n",
    "    except:\n",
    "        return np.nan\n",
    "\n",
    "participantDfCm[\"heightCm\"] = participantDfCm[\"height\"].apply(convertHeightToCm)\n",
    "\n",
    "print(participantDfCm.head())\n"
   ]
  },
  {
   "cell_type": "markdown",
   "id": "72d1bc62",
   "metadata": {},
   "source": [
    "3. Convert these weights to kilograms (kg) using the following conversion rate:\n",
    "    a. kg = Ibs * 0.45359237"
   ]
  },
  {
   "cell_type": "code",
   "execution_count": 13,
   "id": "2bc7cf3b",
   "metadata": {},
   "outputs": [
    {
     "name": "stdout",
     "output_type": "stream",
     "text": [
      "   participant  age height  weight     ageGroup  heightCm   weightKg\n",
      "0            1   32   5'11     175  Young Adult    180.34  79.378665\n",
      "1            2   55    5'5     132  Middle Aged    165.10  59.874193\n",
      "2            3   62    5'9     195       Senior    175.26  88.450512\n",
      "3            4   18    5'3     120  Young Adult    160.02  54.431084\n",
      "4            5   23    6'1     180  Young Adult    185.42  81.646627\n"
     ]
    }
   ],
   "source": [
    "participantDfKg = participantDfCm.copy()\n",
    "participantDfKg[\"weightKg\"] = participantDfKg[\"weight\"] * 0.45359237\n",
    "\n",
    "print(participantDfKg.head())"
   ]
  },
  {
   "cell_type": "markdown",
   "id": "82c10ea0",
   "metadata": {},
   "source": [
    "4. Create a new variable, bmi by filling in the values of the final column's cells using the formula (rounded to one decimal place):\n",
    "    a. BMI = Weight (kg) / (Height (m))^2"
   ]
  },
  {
   "cell_type": "code",
   "execution_count": null,
   "id": "10b4b456",
   "metadata": {},
   "outputs": [
    {
     "name": "stdout",
     "output_type": "stream",
     "text": [
      "   participant  age height  weight     ageGroup  heightCm   weightKg   bmi\n",
      "0            1   32   5'11     175  Young Adult    180.34  79.378665  24.4\n",
      "1            2   55    5'5     132  Middle Aged    165.10  59.874193  22.0\n",
      "2            3   62    5'9     195       Senior    175.26  88.450512  28.8\n",
      "3            4   18    5'3     120  Young Adult    160.02  54.431084  21.3\n",
      "4            5   23    6'1     180  Young Adult    185.42  81.646627  23.7\n"
     ]
    }
   ],
   "source": [
    "participantDfBmi = participantDfKg.copy()\n",
    "\n",
    "participantDfBmi[\"bmi\"] = (participantDfBmi[\"weightKg\"] / (participantDfBmi[\"heightCm\"] / 100) ** 2).round(1)\n",
    "\n",
    "# print(participantDfBmi.head())\n",
    "print(participantDfBmi)"
   ]
  },
  {
   "cell_type": "code",
   "execution_count": null,
   "id": "d07efc5d",
   "metadata": {},
   "outputs": [],
   "source": []
  }
 ],
 "metadata": {
  "kernelspec": {
   "display_name": "env",
   "language": "python",
   "name": "python3"
  },
  "language_info": {
   "codemirror_mode": {
    "name": "ipython",
    "version": 3
   },
   "file_extension": ".py",
   "mimetype": "text/x-python",
   "name": "python",
   "nbconvert_exporter": "python",
   "pygments_lexer": "ipython3",
   "version": "3.13.4"
  }
 },
 "nbformat": 4,
 "nbformat_minor": 5
}
